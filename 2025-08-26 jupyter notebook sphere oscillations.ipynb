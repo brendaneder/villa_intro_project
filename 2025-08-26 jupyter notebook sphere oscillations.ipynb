{
 "cells": [
  {
   "cell_type": "code",
   "execution_count": 1,
   "id": "6c431e3d",
   "metadata": {},
   "outputs": [
    {
     "name": "stdout",
     "output_type": "stream",
     "text": [
      "done\n"
     ]
    }
   ],
   "source": [
    "import numpy as np\n",
    "import matplotlib.pyplot as plt\n",
    "\n",
    "print(\"done\")"
   ]
  },
  {
   "cell_type": "code",
   "execution_count": 13,
   "id": "e778b070",
   "metadata": {},
   "outputs": [],
   "source": [
    "import imageio.v2 as imageio\n",
    "import numpy as np\n",
    "import matplotlib.pyplot as plt\n"
   ]
  },
  {
   "cell_type": "code",
   "execution_count": 8,
   "id": "63e7fd9d",
   "metadata": {},
   "outputs": [
    {
     "name": "stdout",
     "output_type": "stream",
     "text": [
      "max steps = 99.0\n"
     ]
    }
   ],
   "source": [
    "s = 1 #reflection scaling factor from surface pressure\n",
    "Lx = int(2e2) #number of cells x\n",
    "Ly = int(2e2) #number of cells y\n",
    "l = 100 # um side length of cell\n",
    "co = 1e5 # speed of sound, um/s\n",
    "hz = 10 # vibrational frequency, 1/s\n",
    "t_osc = 1/hz # period, s\n",
    "t_step = 10*l/co # step time\n",
    "t_max = l*Ly*5/co #max time\n",
    "print(\"max steps =\", t_max//t_step)\n",
    "\n",
    "t = 0 # set t=0\n",
    "A = np.zeros([Ly, Lx]) #create matrix\n",
    "dA = np.zeros([Ly, Lx])\n",
    "dB = np.zeros([Ly, Lx])"
   ]
  },
  {
   "cell_type": "code",
   "execution_count": null,
   "id": "15d84c24",
   "metadata": {},
   "outputs": [],
   "source": [
    "x_angle = np."
   ]
  },
  {
   "cell_type": "code",
   "execution_count": 9,
   "id": "6a92d0d7",
   "metadata": {},
   "outputs": [],
   "source": [
    "for x in range(Lx):\n",
    "    for y in range(Ly):\n",
    "        dist_a = np.sqrt((l*x)**2 + (l*y)**2)\n",
    "        dist_b = np.sqrt( (l*(2*Ly-y))**2 + (l*x)**2)\n",
    "        dA[y,x] = dist_a\n",
    "        dB[y,x]=dist_b"
   ]
  },
  {
   "cell_type": "code",
   "execution_count": 18,
   "id": "237c5830",
   "metadata": {},
   "outputs": [
    {
     "name": "stdout",
     "output_type": "stream",
     "text": [
      "1.0\n",
      "2.0\n",
      "2.0\n",
      "4.0\n",
      "5.0\n",
      "6.0\n",
      "7.0\n",
      "8.0\n",
      "8.0\n",
      "9.0\n",
      "10.0\n",
      "11.0\n",
      "12.0\n",
      "13.0\n",
      "14.0\n",
      "16.0\n",
      "17.0\n",
      "18.0\n",
      "19.0\n",
      "20.0\n",
      "21.0\n",
      "22.0\n",
      "23.0\n",
      "24.0\n",
      "25.0\n",
      "26.0\n",
      "27.0\n",
      "28.0\n",
      "29.0\n",
      "30.0\n",
      "31.0\n",
      "32.0\n",
      "33.0\n",
      "34.0\n",
      "35.0\n",
      "36.0\n",
      "37.0\n",
      "38.0\n",
      "39.0\n",
      "40.0\n",
      "41.0\n",
      "42.0\n",
      "43.0\n",
      "44.0\n",
      "45.0\n",
      "46.0\n",
      "47.0\n",
      "48.0\n",
      "49.0\n",
      "50.0\n",
      "51.0\n",
      "52.0\n",
      "53.0\n",
      "54.0\n",
      "55.0\n",
      "56.0\n",
      "57.0\n",
      "58.0\n",
      "59.0\n",
      "60.0\n",
      "61.0\n",
      "62.0\n",
      "63.0\n",
      "64.0\n",
      "65.0\n",
      "66.0\n",
      "67.0\n",
      "68.0\n",
      "69.0\n",
      "70.0\n",
      "71.0\n",
      "72.0\n",
      "73.0\n",
      "74.0\n",
      "75.0\n",
      "76.0\n",
      "77.0\n",
      "78.0\n",
      "79.0\n",
      "80.0\n",
      "81.0\n",
      "82.0\n",
      "83.0\n",
      "84.0\n",
      "85.0\n",
      "86.0\n",
      "87.0\n",
      "88.0\n",
      "89.0\n",
      "90.0\n",
      "91.0\n",
      "92.0\n",
      "93.0\n",
      "94.0\n",
      "95.0\n",
      "96.0\n",
      "97.0\n",
      "98.0\n",
      "99.0\n",
      "100.0\n"
     ]
    }
   ],
   "source": [
    "t=0\n",
    "with imageio.get_writer(\"heat_sequence.gif\", mode=\"I\", duration=0.05) as gif:\n",
    "\n",
    "    while t < t_max:\n",
    "        t += t_step\n",
    "        print(t // t_step)\n",
    "        p_t = np.zeros([Ly,Lx]) #pressure map at time t\n",
    "        for y in range(Ly):\n",
    "            for x in range(Lx):\n",
    "                ta = dA[y,x] / co\n",
    "                tb = dB[y,x] / co\n",
    "                if t < ta:\n",
    "                    p_t[y,x] = 0\n",
    "\n",
    "                else:\n",
    "                    pressure = 1 - 2 * np.mod(t - ta, t_osc)/t_osc\n",
    "                \n",
    "                if t >= tb:\n",
    "                    pressure += s * (1 - 2 * np.mod(t - tb, t_osc)/t_osc)\n",
    "                \n",
    "                p_t[y,x] = pressure\n",
    "\n",
    "\n",
    "       \n",
    "        fig, ax = plt.subplots(figsize=(4, 4), dpi=120)\n",
    "        ax.imshow(p_t, cmap=\"magma\", interpolation=\"nearest\")\n",
    "        \n",
    "        ax.axis(\"off\")\n",
    "        plt.tight_layout(pad=0)\n",
    "\n",
    "        # convert to numpy image\n",
    "        fig.canvas.draw()\n",
    "        w, h = fig.canvas.get_width_height()\n",
    "        frame = np.frombuffer(fig.canvas.buffer_rgba(), dtype=np.uint8).reshape(h, w, 4)\n",
    "        plt.close(fig)\n",
    "\n",
    "        gif.append_data(frame[:, :, :3])  # RGB onlyta(frame[:, :, :3])  # RGB only"
   ]
  },
  {
   "cell_type": "code",
   "execution_count": null,
   "id": "62f902d8",
   "metadata": {},
   "outputs": [],
   "source": []
  },
  {
   "cell_type": "code",
   "execution_count": null,
   "id": "58cc280c",
   "metadata": {},
   "outputs": [],
   "source": []
  }
 ],
 "metadata": {
  "kernelspec": {
   "display_name": "venv",
   "language": "python",
   "name": "python3"
  },
  "language_info": {
   "codemirror_mode": {
    "name": "ipython",
    "version": 3
   },
   "file_extension": ".py",
   "mimetype": "text/x-python",
   "name": "python",
   "nbconvert_exporter": "python",
   "pygments_lexer": "ipython3",
   "version": "3.13.7"
  }
 },
 "nbformat": 4,
 "nbformat_minor": 5
}
